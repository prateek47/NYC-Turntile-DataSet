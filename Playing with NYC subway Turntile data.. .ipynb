{
 "cells": [
  {
   "cell_type": "markdown",
   "metadata": {},
   "source": [
    "## Data Analysis "
   ]
  },
  {
   "cell_type": "code",
   "execution_count": 168,
   "metadata": {
    "collapsed": true
   },
   "outputs": [],
   "source": [
    "# Imports \n",
    "import pandas as pd\n",
    "import csv\n",
    "from datetime import datetime\n",
    "from datetime import timedelta\n",
    "import os\n",
    "import matplotlib.pyplot as plt\n",
    "import statistics\n",
    "%matplotlib inline"
   ]
  },
  {
   "cell_type": "markdown",
   "metadata": {},
   "source": [
    "to download the data and read about the formats of the file go to\n",
    "http://web.mta.info/developers/turnstile.html"
   ]
  },
  {
   "cell_type": "markdown",
   "metadata": {},
   "source": [
    "### Functions Used"
   ]
  },
  {
   "cell_type": "markdown",
   "metadata": {},
   "source": [
    "#### function to read the data as a list of lists"
   ]
  },
  {
   "cell_type": "code",
   "execution_count": 2,
   "metadata": {
    "collapsed": true
   },
   "outputs": [],
   "source": [
    "def read_data(path_totextfile):\n",
    "    with open(path_totextfile, \"r\") as t_data:  \n",
    "        next(t_data)                               # iterating each line\n",
    "        reader = csv.reader(x.replace('\\0', '') for x in t_data) # replacing the byte type object with '', if present in the file\n",
    "        my_list = [[ cell.strip() for cell in row ] for row in reader] # storing as list of list\n",
    "        i = len(my_list)   # number of rows in the datafile\n",
    "    return my_list, i"
   ]
  },
  {
   "cell_type": "markdown",
   "metadata": {},
   "source": [
    "#### Formatting the data prior to 10/18/14, with key as the first 3 unique identifers and value represents the list as per date"
   ]
  },
  {
   "cell_type": "code",
   "execution_count": 3,
   "metadata": {
    "collapsed": true
   },
   "outputs": [],
   "source": [
    "# creating the variable as per the pattern of repetition in the data(prior 10/18/14)\n",
    "c = [3, 8, 13, 18, 23 ,28, 33, 38]\n",
    "\n",
    "# Formating the data and creating a dictionary \n",
    "def format_data(path_totextfile):\n",
    "    my_hash={}\n",
    "    the_list, rowcount=read_data(path_totextfile)   # reading the data\n",
    "    for row in the_list: \n",
    "        key = tuple(row[0:3])   # first 3 unique values\n",
    "        for j in range(len(c)):  # storing the rest of the attributes as values\n",
    "            if j == 7:\n",
    "                val = row[c[j]:]\n",
    "                # check if the key, val exists\n",
    "                try:\n",
    "                    my_hash[key].append(val)\n",
    "                except:\n",
    "                    my_hash[key] = [val]\n",
    "            else:\n",
    "                val = row[c[j]:c[j+1]]\n",
    "                # check if the key, val exists\n",
    "                try:\n",
    "                    my_hash[key].append(val)\n",
    "                except:\n",
    "                    my_hash[key] = [val]        \n",
    "    return my_hash"
   ]
  },
  {
   "cell_type": "markdown",
   "metadata": {},
   "source": [
    "#### Formatting the data with key state code and date for the year 2013"
   ]
  },
  {
   "cell_type": "code",
   "execution_count": 4,
   "metadata": {
    "collapsed": true
   },
   "outputs": [],
   "source": [
    "def format_stdate(my_hash):\n",
    "    hash_data = {}\n",
    "    for key, value in my_hash.items():\n",
    "        val= []\n",
    "        for v in value:\n",
    "            if len(v)>0:\n",
    "                if v[0][6:] == '13': # keeping dates only for the year '2013'\n",
    "                    k=key+(v[0],)\n",
    "                    try:\n",
    "                        hash_data[k].append(v[1:])\n",
    "                    except:\n",
    "                        hash_data[k]=[v[1:]]\n",
    "                    # as '00:00:00' represents the last and first entry of a day therefore, diving it as two different\n",
    "                    # time values '00:00:00' and '23:59:59'\n",
    "                    if (v[1]=='00:00:00'): \n",
    "                        cop=v\n",
    "                        #using datetime function to minus one day and replace time value with '23:59:59'\n",
    "                        date=datetime.strftime((datetime.strptime(v[0],\"%m-%d-%y\")-timedelta(days=1)).date(),\"%m-%d-%y\")\n",
    "                        k=key+(date,)\n",
    "                        cop[1]=\"23:59:59\"\n",
    "                        try:\n",
    "                            hash_data[k].append(cop[1:])\n",
    "                        except:\n",
    "                            hash_data[k]=[cop[1:]]\n",
    "    return hash_data"
   ]
  },
  {
   "cell_type": "markdown",
   "metadata": {},
   "source": [
    "#### Formatting the data with key state code and date for Q3 in 2013"
   ]
  },
  {
   "cell_type": "code",
   "execution_count": 5,
   "metadata": {
    "collapsed": true
   },
   "outputs": [],
   "source": [
    "def format_stdateQ3(my_hash):\n",
    "    hash_data = {}\n",
    "    for key, value in my_hash.items():\n",
    "        val= []\n",
    "        for v in value:\n",
    "            if len(v)>0:\n",
    "                if v[0][:2] == '07' or v[0][:2] == '08' or v[0][:2] == '09': # keeping dates in the third quantile only\n",
    "                    k=key+(v[0],)\n",
    "                    try:\n",
    "                        hash_data[k].append(v[1:])\n",
    "                    except:\n",
    "                        hash_data[k]=[v[1:]]\n",
    "                    # as '00:00:00' represents the last and first entry of a day therefore, diving it as two different\n",
    "                    # time values '00:00:00' and '23:59:59'\n",
    "                    if (v[1]=='00:00:00'): \n",
    "                        cop=v\n",
    "                        #using datetime function to minus one day and replace time value with '23:59:59'\n",
    "                        date=datetime.strftime((datetime.strptime(v[0],\"%m-%d-%y\")-timedelta(days=1)).date(),\"%m-%d-%y\")\n",
    "                        k=key+(date,)\n",
    "                        cop[1]=\"23:59:59\"\n",
    "                        try:\n",
    "                            hash_data[k].append(cop[1:])\n",
    "                        except:\n",
    "                            hash_data[k]=[cop[1:]]\n",
    "    return hash_data"
   ]
  },
  {
   "cell_type": "markdown",
   "metadata": {},
   "source": [
    "#### Reading the station key provided as a dataframe"
   ]
  },
  {
   "cell_type": "code",
   "execution_count": 6,
   "metadata": {
    "collapsed": true
   },
   "outputs": [],
   "source": [
    "station_key = pd.read_csv('Remote-Booth-Station.csv')"
   ]
  },
  {
   "cell_type": "markdown",
   "metadata": {},
   "source": [
    "#### changing the station using the key provided; (I have named the unknown Control Area codes to station name: ''Unknown'')."
   ]
  },
  {
   "cell_type": "code",
   "execution_count": 7,
   "metadata": {
    "collapsed": true
   },
   "outputs": [],
   "source": [
    "def chnge_stname(hash_d):\n",
    "    hash_data2 = {}\n",
    "    for key, value in hash_d.items():\n",
    "        key_list= list(key)\n",
    "        # all station area code not present in the key provided are named as 'unknown' stations\n",
    "        try:\n",
    "            station_name = station_key.Station[station_key.Booth == key_list[0]].values[0]\n",
    "        except:\n",
    "            station_name = 'Unknown'\n",
    "        # combining the values for a particular station\n",
    "        try:\n",
    "            hash_data2[tuple([station_name, key_list[2], key_list[3]])]= (hash_d[key] + \n",
    "                                                                          hash_data2[tuple([station_name, key_list[2], key_list[3]])])\n",
    "        except:\n",
    "            hash_data2[tuple([station_name, key_list[2], key_list[3]])] = hash_d[key]\n",
    "    return hash_data2"
   ]
  },
  {
   "cell_type": "markdown",
   "metadata": {},
   "source": [
    "#### Creating a function for changing the station name, also the turntiles associated with each station"
   ]
  },
  {
   "cell_type": "code",
   "execution_count": 8,
   "metadata": {
    "collapsed": true
   },
   "outputs": [],
   "source": [
    "def chnge_stname2(hash_d):\n",
    "    hash_data2 = {}\n",
    "    for key, value in hash_d.items():\n",
    "        key_list= list(key)\n",
    "        # all station area code not present in the key provided are named as 'unknown' stations\n",
    "        try:\n",
    "            station_name = station_key.Station[station_key.Booth == key_list[0]].values[0]\n",
    "        except:\n",
    "            station_name = 'Unknown'\n",
    "            \n",
    "        hash_data2[tuple([station_name, key_list[1], key_list[2], key_list[3]])] = hash_d[key]\n",
    "    \n",
    "    return hash_data2"
   ]
  },
  {
   "cell_type": "markdown",
   "metadata": {},
   "source": [
    "#### creating a entry and exit dictionary with key as station name and date, with value as the number of entries and exit on that day of that particular station"
   ]
  },
  {
   "cell_type": "code",
   "execution_count": 9,
   "metadata": {
    "collapsed": true
   },
   "outputs": [],
   "source": [
    "def entry_exit_dict(dict_stnname):\n",
    "    entry_dict = {}\n",
    "    exit_dict = {}\n",
    "    for key, value in dict_stnname.items():\n",
    "        entry = 0\n",
    "        exit = 0\n",
    "        k_list = list(key)\n",
    "    \n",
    "        # Entry values\n",
    "        # if the first entry value is less than the last entry value therefore, the station was active in that day\n",
    "        # Also, that the audit was scheduled reguarly without disturbing the count\n",
    "        if int(value[-1][2]) >= int(value[0][2]):\n",
    "            entry = int(value[-1][2])- int(value[0][2])\n",
    "        else:\n",
    "        # But, if the audit is performed by closing the door, and resetting the count, then we calculate the \n",
    "        # number of entries as the sum of final count before closing - initial count and count after restting - final count\n",
    "            for i in range(len(value)-1):\n",
    "                if int(value[i][2]) > int(value[i+1][2]):\n",
    "                    ent1 = int(value[i][2]) - int(value[0][2])\n",
    "                    ent2 = int(value[-1][2]) - int(value[i+1][2])\n",
    "            entry = ent1+ent2\n",
    "    \n",
    "        # exit value\n",
    "        # same technique is used for calculation of exit as well.\n",
    "        if int(value[-1][3]) >= int(value[0][3]):\n",
    "            exit = int(value[-1][3])- int(value[0][3])\n",
    "        else:\n",
    "            for i in range(len(value)-1):\n",
    "                if int(value[i][3]) > int(value[i+1][3]):\n",
    "                    ext1 = int(value[i][3]) - int(value[0][3])\n",
    "                    ext2 = int(value[-1][3]) - int(value[i+1][3])\n",
    "            exit = ext1+ext2\n",
    "     \n",
    "    # creating entry value dictionary\n",
    "        try:\n",
    "            entry_dict[tuple([k_list[0], k_list[2]])] = entry_dict[tuple([k_list[0], k_list[2]])] + entry\n",
    "        except:\n",
    "            entry_dict[tuple([k_list[0], k_list[2]])] =  entry\n",
    "    \n",
    "    # creating exit value dictionary\n",
    "        try:\n",
    "            exit_dict[tuple([k_list[0], k_list[2]])] = exit_dict[tuple([k_list[0], k_list[2]])] + exit\n",
    "        except:\n",
    "            exit_dict[tuple([k_list[0], k_list[2]])] =  exit\n",
    "    \n",
    "    return entry_dict, exit_dict\n"
   ]
  },
  {
   "cell_type": "markdown",
   "metadata": {},
   "source": [
    "#### the function is same as above, but this time, turntiles numbers are also preserved"
   ]
  },
  {
   "cell_type": "code",
   "execution_count": 10,
   "metadata": {
    "collapsed": true
   },
   "outputs": [],
   "source": [
    "def ent_ext_dict2(dict_stnname):\n",
    "    entry_dict = {}\n",
    "    exit_dict = {}\n",
    "    for key, value in dict_stnname.items():\n",
    "        entry = 0\n",
    "        exit = 0\n",
    "        k_list = list(key)\n",
    "    \n",
    "        # entry value\n",
    "        if int(value[-1][2]) >= int(value[0][2]):\n",
    "            entry = int(value[-1][2])- int(value[0][2])\n",
    "        else:\n",
    "            for i in range(len(value)-1):\n",
    "                if int(value[i][2]) > int(value[i+1][2]):\n",
    "                    ent1 = int(value[i][2]) - int(value[0][2])\n",
    "                    ent2 = int(value[-1][2]) - int(value[i+1][2])\n",
    "            entry = ent1+ent2\n",
    "    \n",
    "        # exit value\n",
    "        if int(value[-1][3]) >= int(value[0][3]):\n",
    "            exit = int(value[-1][3])- int(value[0][3])\n",
    "        else:\n",
    "            for i in range(len(value)-1):\n",
    "                if int(value[i][3]) > int(value[i+1][3]):\n",
    "                    ext1 = int(value[i][3]) - int(value[0][3])\n",
    "                    ext2 = int(value[-1][3]) - int(value[i+1][3])\n",
    "            exit = ext1+ext2\n",
    "     \n",
    "    # creating entry value dictionary\n",
    "        try:\n",
    "            entry_dict[tuple([k_list[0], k_list[1], k_list[3]])] = entry_dict[tuple([k_list[0], k_list[1], k_list[3]])] + entry\n",
    "        except:\n",
    "            entry_dict[tuple([k_list[0], k_list[1], k_list[3]])] =  entry\n",
    "    \n",
    "    # creating exit value dictionary\n",
    "        try:\n",
    "            exit_dict[tuple([k_list[0], k_list[1], k_list[3]])] = exit_dict[tuple([k_list[0], k_list[1], k_list[3]])] + exit\n",
    "        except:\n",
    "            exit_dict[tuple([k_list[0], k_list[1], k_list[3]])] =  exit\n",
    "    \n",
    "    return entry_dict, exit_dict\n"
   ]
  },
  {
   "cell_type": "markdown",
   "metadata": {},
   "source": [
    "#### Funciton to sort the keys of the dictionary"
   ]
  },
  {
   "cell_type": "code",
   "execution_count": 11,
   "metadata": {
    "collapsed": false
   },
   "outputs": [],
   "source": [
    "def sortdict(d):\n",
    "    for key in sorted(d): yield d[key]"
   ]
  },
  {
   "cell_type": "markdown",
   "metadata": {},
   "source": [
    "### Question 1.) Which station has the most number of units?"
   ]
  },
  {
   "cell_type": "markdown",
   "metadata": {},
   "source": [
    "I have taken the latest dataset to calculate the number of units, as all datasets have the same number of units for a station, the data is saved as text file"
   ]
  },
  {
   "cell_type": "code",
   "execution_count": 233,
   "metadata": {
    "collapsed": true
   },
   "outputs": [],
   "source": [
    "# reading the data in a dataframe\n",
    "df = pd.read_csv(\"./2sigmadata/turnstile_160507.txt\")"
   ]
  },
  {
   "cell_type": "code",
   "execution_count": 234,
   "metadata": {
    "collapsed": true
   },
   "outputs": [],
   "source": [
    "# grouping by the station and aggregating the number of units it has\n",
    "d1 = df.groupby(\"STATION\").agg({\"UNIT\": pd.Series.nunique})"
   ]
  },
  {
   "cell_type": "markdown",
   "metadata": {},
   "source": [
    "#### Solution:"
   ]
  },
  {
   "cell_type": "code",
   "execution_count": 237,
   "metadata": {
    "collapsed": false
   },
   "outputs": [
    {
     "name": "stdout",
     "output_type": "stream",
     "text": [
      "The station with maximum number of units is '23 ST'\n"
     ]
    }
   ],
   "source": [
    "# the station with maximum number of units\n",
    "print(\"The station with maximum number of units is '%s'\" %d1['UNIT'].idxmax())"
   ]
  },
  {
   "cell_type": "markdown",
   "metadata": {},
   "source": [
    "### Question 2.) What is the total number of entries & exits across the subway system for August 1, 2013?"
   ]
  },
  {
   "cell_type": "markdown",
   "metadata": {},
   "source": [
    "As the question requires the data for 1st August 2013 only, therefore the corresponding dataset is stored in local directory.\n",
    "\n",
    "The data is quite messy, therefore, reading it as csv will be tough to work with, therefore we read each line of the data a list. I observe that first 3 entries are unique, while the rest are entries re-occur in pattern after every 5 entries representing the date, time, audit type, entries and exits. I have created a fuction for the above task which is defined above."
   ]
  },
  {
   "cell_type": "code",
   "execution_count": 238,
   "metadata": {
    "collapsed": true
   },
   "outputs": [],
   "source": [
    "# creating the dictionary\n",
    "data_dict = format_data(\"./2sigmadata/turnstile_130803.txt\")"
   ]
  },
  {
   "cell_type": "markdown",
   "metadata": {},
   "source": [
    "While the data consist of entries for other days as well, therefore keeping only entries for august 1. Also, I observed that the entry \"00:00:00\" on august 2, actually represents the end of day entry of august1. Therefore, I kept that entry and converted it to '23:59:59' on august 1, 2013 for better usage."
   ]
  },
  {
   "cell_type": "code",
   "execution_count": 239,
   "metadata": {
    "collapsed": true
   },
   "outputs": [],
   "source": [
    "august1_dict = {}\n",
    "for key, value in data_dict.items():\n",
    "    val = []\n",
    "    for v in value:\n",
    "        if len(v) > 0:\n",
    "            if v[0] == '08-01-13' or (v[0] == '08-02-13' and v[1] == '00:00:00'):\n",
    "                val.append(v)\n",
    "                august1_dict[key] = val"
   ]
  },
  {
   "cell_type": "markdown",
   "metadata": {},
   "source": [
    "#### Calculating the entries and exits for all turntiles on 1st August"
   ]
  },
  {
   "cell_type": "markdown",
   "metadata": {},
   "source": [
    "I observed that door closes on some days and the entries and exits counts is restarted, therefore, I have incorporated this element in my code. If the first entry is larger than the last entry, then after the audit the count is resetted, therefore the calculation for entry and exit count should be:\n",
    "\n",
    "count before the audit - initial count + (final count of the day- 1st count after the resetting the meter)"
   ]
  },
  {
   "cell_type": "code",
   "execution_count": 240,
   "metadata": {
    "collapsed": true
   },
   "outputs": [],
   "source": [
    "entry = 0\n",
    "exit = 0\n",
    "for key, value in august1_dict.items():\n",
    "    # regular days\n",
    "    if float(value[-1][4]) > float(value[0][4]):\n",
    "        entry += float(value[-1][3])- float(value[0][3])\n",
    "        exit +=  float(value[-1][4])- float(value[0][4])\n",
    "    \n",
    "    # days on which the door closes, the count restarts\n",
    "    if float(value[-1][4]) < float(value[0][4]):\n",
    "        for i in range(len(value)-1):\n",
    "            if float(value[i][4]) > float(value[i+1][4]):\n",
    "                ent1 = float(value[i][3]) - float(value[0][3])\n",
    "                ext1 = float(value[i][4]) - float(value[0][4])\n",
    "                ent2 = float(value[-1][3]) - float(value[i+1][3])\n",
    "                ext2 = float(value[-1][4]) - float(value[i+1][4])\n",
    "        entry += ent1 + ent2\n",
    "        exit += ext1 + ext2"
   ]
  },
  {
   "cell_type": "markdown",
   "metadata": {},
   "source": [
    "### Solution:"
   ]
  },
  {
   "cell_type": "code",
   "execution_count": 242,
   "metadata": {
    "collapsed": false
   },
   "outputs": [
    {
     "name": "stdout",
     "output_type": "stream",
     "text": [
      "The total entries are: 5374439 and total exits are: 4248156\n"
     ]
    }
   ],
   "source": [
    "print(\"The total entries are: %i and total exits are: %i\" %(entry, exit))"
   ]
  },
  {
   "cell_type": "markdown",
   "metadata": {},
   "source": [
    "### Question 3.) Let’s define the busy-ness as sum of entry & exit count. What station was the busiest on August 1, 2013? What turnstile was the busiest on that date?"
   ]
  },
  {
   "cell_type": "code",
   "execution_count": 244,
   "metadata": {
    "collapsed": false
   },
   "outputs": [],
   "source": [
    "# changing the area code to station name for better understanding and revoming the scp number as we require just the\n",
    "# station name and date\n",
    "august1_st = chnge_stname(format_stdate(august1_dict))"
   ]
  },
  {
   "cell_type": "code",
   "execution_count": 245,
   "metadata": {
    "collapsed": false
   },
   "outputs": [],
   "source": [
    "busyness_station = {}   # dictionay to store the value of each station\n",
    "for key, value in august1_st.items():\n",
    "    entry = 0\n",
    "    exit = 0\n",
    "    busyness = 0\n",
    "    k_ = list(key)\n",
    "    # using the same concept that on some days the door closes,so count restarts\n",
    "    \n",
    "    # regular days\n",
    "    if int(value[-1][2]) > int(value[0][2]):\n",
    "        entry = int(value[-1][2])- int(value[0][2])\n",
    "        exit =  int(value[-1][3])- int(value[0][3])\n",
    "        busyness = entry + exit\n",
    "        \n",
    "        try:\n",
    "            busyness_station[k_[0]] = busyness_station[k_[0]] + busyness\n",
    "        except:\n",
    "            busyness_station[k_[0]] = busyness\n",
    "    \n",
    "    # days on which the count restarts\n",
    "    if int(value[-1][2]) < int(value[0][2]):\n",
    "        for i in range(len(value)-1):\n",
    "            if int(value[i][2]) > int(value[i+1][2]):\n",
    "                ent1 = int(value[i][2]) - int(value[0][2])\n",
    "                ext1 = int(value[i][3]) - int(value[0][3])\n",
    "                ent2 = int(value[-1][2]) - int(value[i+1][2])\n",
    "                ext2 = int(value[-1][3]) - int(value[i+1][3])\n",
    "        entry = ent1 + ent2\n",
    "        exit = ext1 + ext2\n",
    "        busyness = entry+exit\n",
    "        \n",
    "        try:\n",
    "            busyness_station[k_[0]] = busyness_station[k_[0]] + busyness\n",
    "        except:\n",
    "            busyness_station[k_[0]] = busyness"
   ]
  },
  {
   "cell_type": "markdown",
   "metadata": {},
   "source": [
    "### Solution: "
   ]
  },
  {
   "cell_type": "code",
   "execution_count": 246,
   "metadata": {
    "collapsed": false
   },
   "outputs": [
    {
     "name": "stdout",
     "output_type": "stream",
     "text": [
      "The station with maximum busyness is '42 ST-PA BUS TE'\n"
     ]
    }
   ],
   "source": [
    "print(\"The station with maximum busyness is '%s'\" %(max(busyness_station, key=busyness_station.get)))"
   ]
  },
  {
   "cell_type": "markdown",
   "metadata": {},
   "source": [
    "### Question 4.) What stations have seen the most usage growth/decline in 2013?"
   ]
  },
  {
   "cell_type": "markdown",
   "metadata": {},
   "source": [
    "I have stored the entire datasets provided for the year 2013 in the directory and then rather than storing dictionary for each datafile, I will calculate the entry and exit count specific for each station and date (useful in Next question)."
   ]
  },
  {
   "cell_type": "code",
   "execution_count": 247,
   "metadata": {
    "collapsed": true
   },
   "outputs": [],
   "source": [
    "# path of the directory and creating a list of files\n",
    "path = './2sigmadata/2013/'\n",
    "filedata = [filelist for filelist in os.listdir(path)]"
   ]
  },
  {
   "cell_type": "code",
   "execution_count": 248,
   "metadata": {
    "collapsed": true
   },
   "outputs": [],
   "source": [
    "# calculating the entry and exits count for each station on a particular date\n",
    "final_entry2013 = {}\n",
    "final_exit2013 = {}\n",
    "for filename in filedata:\n",
    "    dict1 = format_data(path + filename)\n",
    "    dict_st = format_stdate(dict1)\n",
    "    dict_stname = chnge_stname(dict_st)\n",
    "    dict_ent, dict_ext = entry_exit_dict(dict_stname)\n",
    "    final_entry2013.update(dict_ent)\n",
    "    final_exit2013.update(dict_ext)"
   ]
  },
  {
   "cell_type": "markdown",
   "metadata": {},
   "source": [
    "Station usage growth/decline is defined as the surge/decline in entry counts on 1st January 2013 vs 31st December 2013\n",
    "#### There might be some stations which may not have entry for 1st Jan 2013 or 31st December 2013 Reason being, they might be closed for maintenance or they must had been opened at some preceeding date in 2013. while other reasons may exist\n",
    "\n",
    "Therefore, to counter such a situation we have to find the start and end date on which entry have been made of each station and they calculate the growth/decline. To perform such a task, initially, I have calculated a list of unique station names and then correspondingly another list creating storing all the dates in python-datetime format. Then for each station growth/decline value is calculated"
   ]
  },
  {
   "cell_type": "code",
   "execution_count": 249,
   "metadata": {
    "collapsed": true
   },
   "outputs": [],
   "source": [
    "# finding list with unique station names\n",
    "st_list = []\n",
    "for key, value in final_entry2013.items():\n",
    "    k1 = list(key)\n",
    "    if k1[0] not in st_list:\n",
    "        st_list.append(k1[0])               "
   ]
  },
  {
   "cell_type": "markdown",
   "metadata": {},
   "source": [
    "#### Creating list with each element representing a list of all dates to the corresponding station in 'st_list'"
   ]
  },
  {
   "cell_type": "code",
   "execution_count": 250,
   "metadata": {
    "collapsed": false
   },
   "outputs": [],
   "source": [
    "date_allst = []\n",
    "for st_name in st_list:\n",
    "    date = []\n",
    "    for key, value in final_entry2013.items():\n",
    "        k2 = list(key)\n",
    "        if k2[0] == st_name:\n",
    "            date.append(datetime.strptime(k2[1],\"%m-%d-%y\"))\n",
    "    date_allst.append(date)"
   ]
  },
  {
   "cell_type": "markdown",
   "metadata": {},
   "source": [
    "Calculating growth/decline as defined above. i.e the difference between the total count on 31st December 2013- 1st January 2013"
   ]
  },
  {
   "cell_type": "code",
   "execution_count": 251,
   "metadata": {
    "collapsed": false
   },
   "outputs": [],
   "source": [
    "station_growth = {}\n",
    "for idx, st_name in enumerate(st_list):\n",
    "    end_date = datetime.strftime(max(date_allst[idx]).date(),\"%m-%d-%y\")\n",
    "    start_date = datetime.strftime(min(date_allst[idx]).date(),\"%m-%d-%y\")\n",
    "    station_growth[st_name] = ((final_entry2013[tuple([st_name, end_date])]+final_exit2013[tuple([st_name,end_date])])-\n",
    "                                (final_entry2013[tuple([st_name, start_date])]+final_exit2013[tuple([st_name,start_date])]))"
   ]
  },
  {
   "cell_type": "markdown",
   "metadata": {},
   "source": [
    "### Solution:"
   ]
  },
  {
   "cell_type": "code",
   "execution_count": 252,
   "metadata": {
    "collapsed": false
   },
   "outputs": [
    {
     "name": "stdout",
     "output_type": "stream",
     "text": [
      "Station with Maximum Growth: '86 ST'\n"
     ]
    }
   ],
   "source": [
    "print(\"Station with Maximum Growth: '%s'\" %(max(station_growth, key=station_growth.get)))"
   ]
  },
  {
   "cell_type": "code",
   "execution_count": 254,
   "metadata": {
    "collapsed": false
   },
   "outputs": [
    {
     "name": "stdout",
     "output_type": "stream",
     "text": [
      "Station with Maximum Decline: 'ROCKAWAY PK 116'\n"
     ]
    }
   ],
   "source": [
    "print(\"Station with Maximum Decline: '%s'\" %(min(station_growth, key=station_growth.get)))"
   ]
  },
  {
   "cell_type": "markdown",
   "metadata": {},
   "source": [
    "### Question 5.) What dates are the least busy? Could you identify days on which stations were not operating at full capacity or closed entirely?"
   ]
  },
  {
   "cell_type": "code",
   "execution_count": 255,
   "metadata": {
    "collapsed": false
   },
   "outputs": [],
   "source": [
    "# creating unique list of dates\n",
    "date_list2013 = []\n",
    "for key, value in final_entry2013.items():\n",
    "    k = list(key)\n",
    "    if k[1] not in date_list2013:\n",
    "        date_list2013.append(k[1])\n",
    "\n",
    "date_list2013.remove('12-31-12') # the last day of the year 2012 appears as it contains the value '00:00:00' which \n",
    "# corresponds to the first entry of 2013"
   ]
  },
  {
   "cell_type": "markdown",
   "metadata": {},
   "source": [
    "#### As defined calculating the busyness of each date, as the sum of entry and exit count"
   ]
  },
  {
   "cell_type": "code",
   "execution_count": 256,
   "metadata": {
    "collapsed": true
   },
   "outputs": [],
   "source": [
    "date_dict = {}\n",
    "for date in date_list2013:\n",
    "    for key, value in final_entry2013.items():\n",
    "        k = list(key)\n",
    "        if k[1] == date:\n",
    "            try:\n",
    "                date_dict[k[1]] = date_dict[k[1]] + value + final_exit2013[key]\n",
    "            except:\n",
    "                date_dict[k[1]] = value + final_exit2013[key]"
   ]
  },
  {
   "cell_type": "markdown",
   "metadata": {},
   "source": [
    "#### Days on which the stations are closed completely"
   ]
  },
  {
   "cell_type": "code",
   "execution_count": 257,
   "metadata": {
    "collapsed": false
   },
   "outputs": [],
   "source": [
    "for key, value in date_dict.items():\n",
    "    if value == 0:\n",
    "        print(key)"
   ]
  },
  {
   "cell_type": "markdown",
   "metadata": {},
   "source": [
    "There are no days on which the all the station is closed entirely"
   ]
  },
  {
   "cell_type": "markdown",
   "metadata": {},
   "source": [
    "#### I define the least busy days, as the days which have less than or equal to 25% of the traffic of the busiest day"
   ]
  },
  {
   "cell_type": "code",
   "execution_count": 258,
   "metadata": {
    "collapsed": false
   },
   "outputs": [
    {
     "name": "stdout",
     "output_type": "stream",
     "text": [
      "05-16-13 4536190677\n"
     ]
    }
   ],
   "source": [
    "# most busiest day\n",
    "print(max(date_dict, key=date_dict.get), max(date_dict.values()))"
   ]
  },
  {
   "cell_type": "markdown",
   "metadata": {},
   "source": [
    "#### Therefore, the least busy days are:"
   ]
  },
  {
   "cell_type": "code",
   "execution_count": 259,
   "metadata": {
    "collapsed": true
   },
   "outputs": [],
   "source": [
    "least_busy_days = []\n",
    "for day, value in date_dict.items():\n",
    "    if value <= (max(date_dict.values())*.25):\n",
    "        least_busy_days.append(day)"
   ]
  },
  {
   "cell_type": "code",
   "execution_count": 260,
   "metadata": {
    "collapsed": false
   },
   "outputs": [
    {
     "name": "stdout",
     "output_type": "stream",
     "text": [
      "Number of least busy days: 13\n",
      "The days are: ['05-31-13', '01-25-13', '11-29-13', '04-26-13', '10-11-13', '05-10-13', '01-04-13', '08-23-13', '08-02-13', '03-29-13', '09-20-13', '04-19-13', '03-22-13']\n"
     ]
    }
   ],
   "source": [
    "print(\"Number of least busy days: %i\" % (len(least_busy_days)))\n",
    "print(\"The days are: %s\" %(least_busy_days))"
   ]
  },
  {
   "cell_type": "markdown",
   "metadata": {},
   "source": [
    "**To find the stations which were not fully operations or closed on certain days, we can check the turntiles for each station and whether they were active or not, for simplication, I have defined functions which are quite similar to the previous functions but, this time they calculate busyness according to turntiles as well**"
   ]
  },
  {
   "cell_type": "code",
   "execution_count": 76,
   "metadata": {
    "collapsed": true
   },
   "outputs": [],
   "source": [
    "f_turn_ent2013 = {}\n",
    "f_turn_ext2013 = {}\n",
    "for filename in filedata:\n",
    "    dict1 = format_data(path + filename) # reading and formatting the data\n",
    "    dict_st = format_stdate(dict1)       # changing the format with date, and accounting of days only in 2013\n",
    "    dict_stname = chnge_stname2(dict_st) # changing the station name\n",
    "    dict_ent, dict_ext = ent_ext_dict2(dict_stname)  # calculating the total entry and exit values\n",
    "    # updating the entry dictionary i.e adding pair of keys and values\n",
    "    f_turn_ent2013.update(dict_ent) \n",
    "    f_turn_ext2013.update(dict_ext)"
   ]
  },
  {
   "cell_type": "code",
   "execution_count": 77,
   "metadata": {
    "collapsed": true
   },
   "outputs": [],
   "source": [
    "not_fuloprt = []\n",
    "for key, value in f_turn_ent2013.items():\n",
    "    k = list(key)\n",
    "    if (value + f_turn_ext2013[key]) == 0: # the station is inactive if the total count of entry and exit is zero\n",
    "        not_fuloprt.append(k[2])"
   ]
  },
  {
   "cell_type": "markdown",
   "metadata": {},
   "source": [
    "### Solution:\n",
    "#### Days on which the stations were not fully operational"
   ]
  },
  {
   "cell_type": "code",
   "execution_count": 81,
   "metadata": {
    "collapsed": false
   },
   "outputs": [
    {
     "name": "stdout",
     "output_type": "stream",
     "text": [
      "Number of days stations were not fully operations days: 222\n",
      "The days are: {'10-29-13', '01-23-13', '06-23-13', '05-03-13', '03-20-13', '09-22-13', '06-30-13', '06-14-13', '05-10-13', '10-19-13', '02-18-13', '11-02-13', '09-29-13', '07-26-13', '03-11-13', '11-22-13', '02-23-13', '03-23-13', '04-17-13', '07-14-13', '03-09-13', '09-05-13', '04-16-13', '08-29-13', '01-17-13', '04-21-13', '10-06-13', '05-26-13', '01-13-13', '05-11-13', '02-14-13', '07-03-13', '07-12-13', '04-10-13', '08-30-13', '01-19-13', '03-29-13', '03-30-13', '10-27-13', '12-13-13', '01-30-13', '06-18-13', '01-21-13', '12-29-13', '08-15-13', '07-25-13', '01-05-13', '04-11-13', '03-16-13', '01-14-13', '05-05-13', '03-10-13', '09-20-13', '02-21-13', '03-01-13', '01-03-13', '11-03-13', '01-02-13', '08-09-13', '05-17-13', '04-03-13', '10-13-13', '12-20-13', '02-08-13', '08-08-13', '11-09-13', '08-02-13', '01-16-13', '02-02-13', '08-04-13', '02-28-13', '04-13-13', '01-08-13', '02-27-13', '03-21-13', '04-15-13', '12-21-13', '04-12-13', '03-15-13', '07-20-13', '05-25-13', '08-10-13', '03-03-13', '01-06-13', '01-12-13', '04-06-13', '09-28-13', '04-02-13', '01-15-13', '07-16-13', '12-06-13', '02-09-13', '05-31-13', '08-03-13', '05-21-13', '01-25-13', '04-07-13', '12-07-13', '09-21-13', '04-22-13', '04-27-13', '04-08-13', '02-25-13', '12-09-13', '03-08-13', '10-11-13', '01-22-13', '08-22-13', '06-04-13', '05-04-13', '08-01-13', '04-18-13', '01-07-13', '02-13-13', '03-31-13', '06-03-13', '01-09-13', '01-18-13', '02-01-13', '06-10-13', '03-19-13', '02-16-13', '03-05-13', '04-25-13', '02-10-13', '06-15-13', '01-01-13', '04-28-13', '01-27-13', '08-25-13', '06-19-13', '06-13-13', '02-03-13', '11-29-13', '07-11-13', '02-07-13', '10-05-13', '08-07-13', '07-01-13', '01-24-13', '11-08-13', '03-17-13', '04-01-13', '02-20-13', '01-31-13', '02-15-13', '04-19-13', '08-17-13', '12-15-13', '05-09-13', '05-15-13', '09-08-13', '06-11-13', '02-04-13', '10-01-13', '01-28-13', '03-24-13', '02-22-13', '04-05-13', '01-26-13', '06-07-13', '10-20-13', '06-16-13', '09-04-13', '05-12-13', '02-05-13', '06-29-13', '08-23-13', '12-31-12', '07-13-13', '12-14-13', '07-19-13', '08-18-13', '05-30-13', '07-09-13', '03-12-13', '09-01-13', '04-04-13', '03-13-13', '09-07-13', '01-20-13', '11-24-13', '07-29-13', '03-06-13', '12-08-13', '05-18-13', '03-25-13', '11-23-13', '02-11-13', '05-13-13', '05-06-13', '04-14-13', '03-02-13', '03-27-13', '03-14-13', '03-04-13', '02-26-13', '03-22-13', '05-24-13', '08-14-13', '12-10-13', '09-06-13', '04-24-13', '09-27-13', '07-18-13', '04-26-13', '07-02-13', '06-21-13', '04-09-13', '01-11-13', '10-02-13', '01-10-13', '05-19-13', '05-08-13', '02-24-13', '01-04-13', '02-17-13', '07-05-13', '06-20-13', '04-20-13', '05-28-13', '12-27-13'}\n"
     ]
    }
   ],
   "source": [
    "print(\"Number of days stations were not fully operations days: %i\" % (len(set(not_fuloprt))))\n",
    "print(\"The days are: %s\" %(set(not_fuloprt)))"
   ]
  },
  {
   "cell_type": "markdown",
   "metadata": {},
   "source": [
    "## Data Visualization"
   ]
  },
  {
   "cell_type": "markdown",
   "metadata": {
    "collapsed": true
   },
   "source": [
    "### Question 1.) Plot the daily row counts for data files in Q3 2013."
   ]
  },
  {
   "cell_type": "code",
   "execution_count": 12,
   "metadata": {
    "collapsed": true
   },
   "outputs": [],
   "source": [
    "# Path to the directory and creating a list of files in that directory\n",
    "path1 = './2sigmadata/Q3/'\n",
    "filedata1 = [filelist for filelist in os.listdir(path1)]"
   ]
  },
  {
   "cell_type": "code",
   "execution_count": 13,
   "metadata": {
    "collapsed": false
   },
   "outputs": [
    {
     "data": {
      "text/plain": [
       "14"
      ]
     },
     "execution_count": 13,
     "metadata": {},
     "output_type": "execute_result"
    }
   ],
   "source": [
    "tot_rowcounts = []\n",
    "for files in filedata1:\n",
    "    datafile, rowcount = read_data(path1+files)\n",
    "    tot_rowcounts.append(rowcount)\n",
    "len(tot_rowcounts)"
   ]
  },
  {
   "cell_type": "code",
   "execution_count": 186,
   "metadata": {
    "collapsed": false
   },
   "outputs": [
    {
     "data": {
      "image/png": "[encoded data removed]",
      "text/plain": [
       "<matplotlib.figure.Figure at 0x7fa572caa710>"
      ]
     },
     "metadata": {},
     "output_type": "display_data"
    }
   ],
   "source": [
    "# plotting the row count for each data file in Q3\n",
    "plt.plot(range(1,15), tot_rowcounts)\n",
    "plt.bar(range(1,15), tot_rowcounts, alpha=0.5, align='center', color='g')\n",
    "plt.ylabel(\"Row Count\")\n",
    "plt.xlabel(\"File Names\")\n",
    "plt.axis([ 0, 15, 29000, 32500])\n",
    "plt.title(\"Row Counts of Each datafile in Q3\")\n",
    "plt.xticks(range(1,15), filedata1, rotation = 80)\n",
    "plt.annotate('(7th Sept 2013, 31854)', xy=(10, 31854), xytext=(2.5, 32100),\n",
    "            arrowprops=dict(facecolor='black', shrink=0.1))\n",
    "plt.grid(True)\n",
    "plt.show()"
   ]
  },
  {
   "cell_type": "markdown",
   "metadata": {},
   "source": [
    "### Question 2.) Plot the daily total number of entries & exits across the system for Q3 2013."
   ]
  },
  {
   "cell_type": "code",
   "execution_count": 16,
   "metadata": {
    "collapsed": true
   },
   "outputs": [],
   "source": [
    "# creating a dictionary of exit and entry count( as before done for 2013) but this one is for Q3 only\n",
    "final_entryQ3 = {}\n",
    "final_exitQ3 = {}\n",
    "for filename in filedata1:\n",
    "    dict1 = format_data(path1 + filename)\n",
    "    dict_st = format_stdateQ3(dict1)\n",
    "    dict_stname = chnge_stname(dict_st)\n",
    "    dict_ent, dict_ext = entry_exit_dict(dict_stname)\n",
    "    final_entryQ3.update(dict_ent)\n",
    "    final_exitQ3.update(dict_ext)"
   ]
  },
  {
   "cell_type": "code",
   "execution_count": 17,
   "metadata": {
    "collapsed": true
   },
   "outputs": [],
   "source": [
    "# creating unique list of dates\n",
    "date_list = []\n",
    "for key, value in final_entryQ3.items():\n",
    "    k = list(key)\n",
    "    if k[1] not in date_list:\n",
    "        date_list.append(k[1])\n",
    "\n",
    "date_list.remove('06-30-13')  # the day appears because of the entry of '00:00:00'"
   ]
  },
  {
   "cell_type": "code",
   "execution_count": 28,
   "metadata": {
    "collapsed": false
   },
   "outputs": [],
   "source": [
    "# Entry and exit count on each date\n",
    "date_entry_dict = {}\n",
    "date_exit_dict = {}\n",
    "\n",
    "for date in date_list: \n",
    "    for key, value in final_entryQ3.items():\n",
    "        k = list(key)\n",
    "        #for each date in the date list\n",
    "        if k[1] == date:\n",
    "            #adding the entries on that date\n",
    "            try:\n",
    "                date_entry_dict[k[1]] = date_entry_dict[k[1]] + value\n",
    "            except:\n",
    "                date_entry_dict[k[1]] = value\n",
    "    # adding the exit count on that date\n",
    "    for key1, val in final_exitQ3.items():\n",
    "        k1 = list(key1)\n",
    "        if k1[1] == date:\n",
    "            try:\n",
    "                date_exit_dict[k1[1]] = date_exit_dict[k1[1]] + val\n",
    "            except:\n",
    "                date_exit_dict[k1[1]] = val"
   ]
  },
  {
   "cell_type": "markdown",
   "metadata": {},
   "source": [
    "As the keys in a dictionary does not sort the keys iteself, but we can sort the list of the keys according to the date, and store the value to plot"
   ]
  },
  {
   "cell_type": "markdown",
   "metadata": {},
   "source": [
    "**Sorting the values**"
   ]
  },
  {
   "cell_type": "code",
   "execution_count": 30,
   "metadata": {
    "collapsed": false
   },
   "outputs": [],
   "source": [
    "# value in sorted form according to the date\n",
    "values = []\n",
    "for val in sortdict(date_entry_dict):\n",
    "    values.append(val)"
   ]
  },
  {
   "cell_type": "code",
   "execution_count": 33,
   "metadata": {
    "collapsed": true
   },
   "outputs": [],
   "source": [
    "# value in sorted form according to the date\n",
    "values2 = []\n",
    "for val in sortdict(date_exit_dict):\n",
    "    values2.append(val)"
   ]
  },
  {
   "cell_type": "markdown",
   "metadata": {},
   "source": [
    "** Plotting the entry count for each day**"
   ]
  },
  {
   "cell_type": "code",
   "execution_count": 185,
   "metadata": {
    "collapsed": false
   },
   "outputs": [
    {
     "data": {
      "image/png": "[encoded data removed]",
      "text/plain": [
       "<matplotlib.figure.Figure at 0x7fa57010d630>"
      ]
     },
     "metadata": {},
     "output_type": "display_data"
    }
   ],
   "source": [
    "plt.figure(figsize=(15,5))\n",
    "plt.bar(range(1,93), values, alpha=0.5, align='center', color='g')\n",
    "plt.ylabel(\"Entries Count\")\n",
    "plt.xlabel(\"Days in Q3\")\n",
    "plt.axis([ 0, 93, 0, 3000000000])\n",
    "plt.title(\"Entries on each day in Q3\")\n",
    "plt.annotate('(04th July 2013, 2618741342)', xy=(4, 2618741342), xytext=(11,2618741342),\n",
    "            arrowprops=dict(facecolor='black', shrink=0.1))\n",
    "plt.grid(True)\n",
    "plt.show()"
   ]
  },
  {
   "cell_type": "markdown",
   "metadata": {},
   "source": [
    "** Plotting the exit counts for each day**"
   ]
  },
  {
   "cell_type": "code",
   "execution_count": 184,
   "metadata": {
    "collapsed": false
   },
   "outputs": [
    {
     "data": {
      "image/png": "[encoded data removed]",
      "text/plain": [
       "<matplotlib.figure.Figure at 0x7fa570793908>"
      ]
     },
     "metadata": {},
     "output_type": "display_data"
    }
   ],
   "source": [
    "plt.figure(figsize=(15,5)\n",
    "plt.bar(range(1,93), values2, alpha=0.5, align='center', color='g')\n",
    "plt.ylabel(\"Exits Count\")\n",
    "plt.xlabel(\"Days in Q3\")\n",
    "plt.axis([ 0, 93, 0, 2500000000])\n",
    "plt.title(\"Exits on each day in Q3\")\n",
    "plt.annotate('(04th July 2013, 2065349435)', xy=(19, 2065349435), xytext=(26,2065349435),\n",
    "            arrowprops=dict(facecolor='black', shrink=0.1))\n",
    "plt.grid(True)\n",
    "plt.show()"
   ]
  },
  {
   "cell_type": "markdown",
   "metadata": {},
   "source": [
    "### Question 3.) Plot the mean and standard deviation of the daily total number of entries & exits for each month in Q3 2013 for station 34 ST-PENN STA. "
   ]
  },
  {
   "cell_type": "code",
   "execution_count": 224,
   "metadata": {
    "collapsed": true
   },
   "outputs": [],
   "source": [
    "# keeping entry values for '34 ST-PENN STA'\n",
    "pennst_entQ3= {}\n",
    "for key, value in final_entryQ3.items():\n",
    "    k = list(key)\n",
    "    if k[0] == '34 ST-PENN STA':\n",
    "        pennst_entQ3[k[1]] = value"
   ]
  },
  {
   "cell_type": "code",
   "execution_count": null,
   "metadata": {
    "collapsed": true
   },
   "outputs": [],
   "source": [
    "# keeping exit values for '34 ST-PENN STA'\n",
    "pennst_extQ3= {}\n",
    "for key, value in final_exitQ3.items():\n",
    "    k = list(key)\n",
    "    if k[0] == '34 ST-PENN STA':\n",
    "        pennst_extQ3[k[1]] = value"
   ]
  },
  {
   "cell_type": "code",
   "execution_count": 156,
   "metadata": {
    "collapsed": false
   },
   "outputs": [],
   "source": [
    "# formatting the data only each month in Q3\n",
    "pennst_july = []\n",
    "pennst_aug = []\n",
    "pennst_sept = []\n",
    "for key, value in pennst_entQ3.items():\n",
    "    if key[:2] == '07':\n",
    "        pennst_july.append(value)\n",
    "    elif key[:2] == '08':\n",
    "        pennst_aug.append(value)\n",
    "    elif key[:2] == '09':\n",
    "        pennst_sept.append(value)    \n",
    "        "
   ]
  },
  {
   "cell_type": "code",
   "execution_count": 161,
   "metadata": {
    "collapsed": false
   },
   "outputs": [],
   "source": [
    "# calculating the mean for each month\n",
    "pennst_july_mean = sum(pennst_july)/len(pennst_july)\n",
    "pennst_aug_mean = sum(pennst_aug)/len(pennst_aug)\n",
    "pennst_sept_mean = sum(pennst_sept)/len(pennst_sept)\n",
    "pennst_mean = [pennst_july_mean, pennst_aug_mean, pennst_sept_mean]"
   ]
  },
  {
   "cell_type": "code",
   "execution_count": 170,
   "metadata": {
    "collapsed": false
   },
   "outputs": [],
   "source": [
    "# calculating the standard deviation for each month\n",
    "pennst_july_sd = statistics.stdev(pennst_july)\n",
    "pennst_aug_sd = statistics.stdev(pennst_aug)\n",
    "pennst_sept_sd = statistics.stdev(pennst_sept)\n",
    "pennst_sd = [pennst_july_sd, pennst_aug_sd, pennst_sept_sd]"
   ]
  },
  {
   "cell_type": "code",
   "execution_count": 187,
   "metadata": {
    "collapsed": true
   },
   "outputs": [],
   "source": [
    "# formatting the exit data as per each month in Q3 2013\n",
    "pennst_july2 = []\n",
    "pennst_aug2 = []\n",
    "pennst_sept2 = []\n",
    "for key, value in pennst_extQ3.items():\n",
    "    if key[:2] == '07':\n",
    "        pennst_july2.append(value)\n",
    "    elif key[:2] == '08':\n",
    "        pennst_aug2.append(value)\n",
    "    elif key[:2] == '09':\n",
    "        pennst_sept2.append(value)    \n",
    "\n",
    "pennst_july_mean2 = sum(pennst_july2)/len(pennst_july2)\n",
    "pennst_aug_mean2 = sum(pennst_aug2)/len(pennst_aug2)\n",
    "pennst_sept_mean2 = sum(pennst_sept2)/len(pennst_sept2)\n",
    "pennst_mean2 = [pennst_july_mean2, pennst_aug_mean2, pennst_sept_mean2]\n",
    "\n",
    "pennst_july_sd2 = statistics.stdev(pennst_july2)\n",
    "pennst_aug_sd2 = statistics.stdev(pennst_aug2)\n",
    "pennst_sept_sd2 = statistics.stdev(pennst_sept2)\n",
    "pennst_sd2 = [pennst_july_sd, pennst_aug_sd2, pennst_sept_sd2]"
   ]
  },
  {
   "cell_type": "markdown",
   "metadata": {},
   "source": [
    "** Plotting the standard deviation and mean for each month in Q3 2013**"
   ]
  },
  {
   "cell_type": "code",
   "execution_count": 262,
   "metadata": {
    "collapsed": false
   },
   "outputs": [
    {
     "data": {
      "image/png": "[encoded data removed]",
      "text/plain": [
       "<matplotlib.figure.Figure at 0x7fa560c5a1d0>"
      ]
     },
     "metadata": {},
     "output_type": "display_data"
    },
    {
     "data": {
      "image/png": "[encoded data removed]",
      "text/plain": [
       "<matplotlib.figure.Figure at 0x7fa57014d198>"
      ]
     },
     "metadata": {},
     "output_type": "display_data"
    }
   ],
   "source": [
    "x = [1,2,3]\n",
    "\n",
    "plt.figure(1, figsize=(5,5))\n",
    "plt.errorbar(x, pennst_mean, pennst_sd, linestyle='None', marker='o')\n",
    "plt.xticks(x, ['july', 'august', 'september'])\n",
    "plt.axis([0,4, 0, 2e8])\n",
    "plt.title(\"Mean and Standard Deviation of daily Entry count of each month in Q3 2013\", y=1.08)\n",
    "plt.grid(True)\n",
    "plt.show()\n",
    "\n",
    "plt.figure(2, figsize=(5,5))\n",
    "plt.errorbar(x, pennst_mean2, pennst_sd2, linestyle='None', marker='o')\n",
    "plt.xticks(x, ['july', 'august', 'september'])\n",
    "plt.axis([0,4, 0, 2e8])\n",
    "plt.title(\"Mean and Standard Deviation of daily Entry count of each month in Q3 2013\", y=1.08)\n",
    "plt.grid(True)\n",
    "plt.show()"
   ]
  },
  {
   "cell_type": "markdown",
   "metadata": {},
   "source": [
    "### Question 4.) Plot 25/50/75 percentile of the daily total number of entries & exits for each month in Q3 2013 for station 34 ST-PENN STA."
   ]
  },
  {
   "cell_type": "code",
   "execution_count": 199,
   "metadata": {
    "collapsed": true
   },
   "outputs": [],
   "source": [
    "# combining all the data in a list\n",
    "entrydata_to_plot = [pennst_july, pennst_aug, pennst_sept]\n",
    "exitdata_to_plot = [pennst_july2, pennst_aug2, pennst_sept2]"
   ]
  },
  {
   "cell_type": "markdown",
   "metadata": {},
   "source": [
    "** Plotting the total number of entry and exits for each month in Q3 2013**"
   ]
  },
  {
   "cell_type": "code",
   "execution_count": 217,
   "metadata": {
    "collapsed": false
   },
   "outputs": [
    {
     "data": {
      "image/png": "[encoded data removed]",
      "text/plain": [
       "<matplotlib.figure.Figure at 0x7fa5707760f0>"
      ]
     },
     "metadata": {},
     "output_type": "display_data"
    },
    {
     "data": {
      "image/png": "[encoded data removed]",
      "text/plain": [
       "<matplotlib.figure.Figure at 0x7fa56f8c6160>"
      ]
     },
     "metadata": {},
     "output_type": "display_data"
    }
   ],
   "source": [
    "fig = plt.figure(1, figsize=(9, 6))\n",
    "ax = fig.add_subplot(111)\n",
    "bp = ax.boxplot(entrydata_to_plot)\n",
    "ax.set_xticklabels(['july', 'August','September'])\n",
    "ax.set_title(\"Box and Whisker plot for Total number of entries of each month in Q3 2013\")\n",
    "ax.get_xaxis().tick_bottom()\n",
    "ax.get_yaxis().tick_left()\n",
    "\n",
    "\n",
    "fig = plt.figure(2, figsize=(9, 6))\n",
    "ax2 = fig.add_subplot(111)\n",
    "bp2 = ax2.boxplot(exitdata_to_plot)\n",
    "ax2.set_xticklabels(['july', 'August','September'])\n",
    "ax2.set_title(\"Box and Whisker plot for Total number of exits of each month in Q3 2013\")\n",
    "ax2.get_xaxis().tick_bottom()\n",
    "ax2.get_yaxis().tick_left()\n"
   ]
  },
  {
   "cell_type": "markdown",
   "metadata": {},
   "source": [
    "### Question 5.) Plot the daily number of closed stations and number of stations that were not operating at full capacity in Q3 2013."
   ]
  },
  {
   "cell_type": "code",
   "execution_count": 89,
   "metadata": {
    "collapsed": false
   },
   "outputs": [],
   "source": [
    "# finding the closed stations on each day of Q3 2013\n",
    "closed_stQ3= {}\n",
    "for date in date_list:\n",
    "    for key, value in final_entryQ3.items(): # using the data from the initially calculated entry \n",
    "                                             # count for each station on a particular day\n",
    "        k = list(key)\n",
    "        if k[1] == date:\n",
    "            if value + final_exitQ3[key] == 0:\n",
    "                try:\n",
    "                    closed_stQ3[k[1]][k[0]] = 1\n",
    "                except:\n",
    "                    closed_stQ3[k[1]] = {k[0]:1}"
   ]
  },
  {
   "cell_type": "code",
   "execution_count": 117,
   "metadata": {
    "collapsed": true
   },
   "outputs": [],
   "source": [
    "# calculating the number of stations for each day in Q3 2013\n",
    "closed_stQ3_count = {}\n",
    "for key, value in closed_stQ3.items():\n",
    "    closed_stQ3_count[key] = len(value)\n",
    "\n",
    "# adding the value '0' for dates that do not have any closed stations\n",
    "for date in date_list:\n",
    "    if date not in list(closed_stQ3.keys()):\n",
    "        closed_stQ3_count[date] = 0"
   ]
  },
  {
   "cell_type": "code",
   "execution_count": 125,
   "metadata": {
    "collapsed": false
   },
   "outputs": [],
   "source": [
    "# sorting the data according to the date\n",
    "values3 = []\n",
    "for val in sortdict(closed_stQ3_count):\n",
    "    values3.append(val)"
   ]
  },
  {
   "cell_type": "markdown",
   "metadata": {},
   "source": [
    "** Plotting number of closed stations in Q3**"
   ]
  },
  {
   "cell_type": "code",
   "execution_count": 182,
   "metadata": {
    "collapsed": false
   },
   "outputs": [
    {
     "data": {
      "image/png": "[encoded data removed]",
      "text/plain": [
       "<matplotlib.figure.Figure at 0x7fa5702c82b0>"
      ]
     },
     "metadata": {},
     "output_type": "display_data"
    }
   ],
   "source": [
    "plt.figure(figsize=(10,5))\n",
    "plt.bar(range(1,93), values3, alpha=0.5, align='center', color='g')\n",
    "plt.ylabel(\"Number of closed stations in Q3 2013\")\n",
    "plt.xlabel(\"Days in Q3\")\n",
    "plt.axis([ 0, 93, 0, 225])\n",
    "plt.title(\"Number of station closed in Q3\")\n",
    "plt.annotate('(2nd August 2013, no of stations: 190)', xy=(33, 190), xytext=(40,210),\n",
    "            arrowprops=dict(facecolor='black', shrink=0.1))\n",
    "plt.grid(True)\n",
    "plt.show()"
   ]
  },
  {
   "cell_type": "code",
   "execution_count": 40,
   "metadata": {
    "collapsed": true
   },
   "outputs": [],
   "source": [
    "# again calculating the daily entries and exits but here we keep the turntile units of each station as well.\n",
    "daily_entQ3 = {}\n",
    "daily_extQ3 = {}\n",
    "for filename in filedata1:\n",
    "    dict1 = format_data(path1 + filename)\n",
    "    dict_st = format_stdateQ3(dict1)\n",
    "    dict_stname = chnge_stname2(dict_st)\n",
    "    dict_ent, dict_ext = ent_ext_dict2(dict_stname)\n",
    "    daily_entQ3.update(dict_ent)\n",
    "    daily_extQ3.update(dict_ext)"
   ]
  },
  {
   "cell_type": "code",
   "execution_count": 66,
   "metadata": {
    "collapsed": false
   },
   "outputs": [],
   "source": [
    "# calculating the stations which had atleast one of their turntiles on working on a particular day\n",
    "not_fuloprtQ3 = {}\n",
    "for date in date_list:\n",
    "    for key, value in daily_entQ3.items():\n",
    "        k = list(key)\n",
    "        if k[2] == date:\n",
    "            if value + daily_extQ3[key] == 0:\n",
    "                try:\n",
    "                    not_fuloprtQ3[k[2]][k[0]] = 1\n",
    "                except:\n",
    "                    not_fuloprtQ3[k[2]] = {k[0]:1}\n"
   ]
  },
  {
   "cell_type": "code",
   "execution_count": 99,
   "metadata": {
    "collapsed": false
   },
   "outputs": [],
   "source": [
    "# removing the stations which are fully closed on that particular day, which gives only the count of stations which\n",
    "# were not operating at full capacity\n",
    "not_fuloprtQ3_count = {}\n",
    "for key, value in not_fuloprtQ3.items():\n",
    "    not_fuloprtQ3_count[key] = (len(value) - len(closed_stQ3[key]))\n",
    "\n",
    "for date in date_list:\n",
    "    if date not in list(not_fuloprtQ3_count.keys()):\n",
    "        not_fuloprtQ3_count[date] = 0"
   ]
  },
  {
   "cell_type": "code",
   "execution_count": 119,
   "metadata": {
    "collapsed": false
   },
   "outputs": [],
   "source": [
    "# sorting the data according to the date\n",
    "values4 = []\n",
    "for val in sortdict(not_fuloprtQ3_count):\n",
    "    values4.append(val)"
   ]
  },
  {
   "cell_type": "markdown",
   "metadata": {},
   "source": [
    "**Plotting stations not opertional at full capacity (not including the closed stations) **"
   ]
  },
  {
   "cell_type": "code",
   "execution_count": 183,
   "metadata": {
    "collapsed": false
   },
   "outputs": [
    {
     "data": {
      "image/png": "[encoded data removed]",
      "text/plain": [
       "<matplotlib.figure.Figure at 0x7fa570127908>"
      ]
     },
     "metadata": {},
     "output_type": "display_data"
    }
   ],
   "source": [
    "plt.figure(figsize=(10,5))\n",
    "#plt.plot(range(1,93), list(date_entry_dict.values()))\n",
    "plt.bar(range(1,93), values4, alpha=0.5, align='center', color='g')\n",
    "plt.ylabel(\"Number of stations not fully operational\")\n",
    "plt.xlabel(\"Days in Q3\")\n",
    "plt.axis([ 0, 93, 0, 35])\n",
    "plt.title(\"Number of station not fully operational\")\n",
    "plt.annotate('(13th Sept 2013, no of stations: 27)', xy=(75, 27), xytext=(50,30),\n",
    "            arrowprops=dict(facecolor='black', shrink=0.1))\n",
    "plt.grid(True)\n",
    "plt.show()"
   ]
  },
  {
   "cell_type": "markdown",
   "metadata": {},
   "source": [
    "###                                                                           Thank You"
   ]
  }
 ],
 "metadata": {
  "kernelspec": {
   "display_name": "Python 3",
   "language": "python",
   "name": "python3"
  },
  "language_info": {
   "codemirror_mode": {
    "name": "ipython",
    "version": 3
   },
   "file_extension": ".py",
   "mimetype": "text/x-python",
   "name": "python",
   "nbconvert_exporter": "python",
   "pygments_lexer": "ipython3",
   "version": "3.5.1"
  }
 },
 "nbformat": 4,
 "nbformat_minor": 0
}
